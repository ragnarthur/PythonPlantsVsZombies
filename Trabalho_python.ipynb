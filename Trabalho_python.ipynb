{
  "nbformat": 4,
  "nbformat_minor": 0,
  "metadata": {
    "colab": {
      "provenance": [],
      "authorship_tag": "ABX9TyN6xhaLhAfkAqJbScVDMrLL",
      "include_colab_link": true
    },
    "kernelspec": {
      "name": "python3",
      "display_name": "Python 3"
    },
    "language_info": {
      "name": "python"
    }
  },
  "cells": [
    {
      "cell_type": "markdown",
      "metadata": {
        "id": "view-in-github",
        "colab_type": "text"
      },
      "source": [
        "<a href=\"https://colab.research.google.com/github/ragnarthur/PythonPlantsVsZombies/blob/main/Trabalho_python.ipynb\" target=\"_parent\"><img src=\"https://colab.research.google.com/assets/colab-badge.svg\" alt=\"Open In Colab\"/></a>"
      ]
    },
    {
      "cell_type": "code",
      "execution_count": 1,
      "metadata": {
        "id": "t8uIGE1xBaP5"
      },
      "outputs": [],
      "source": [
        "import tensorflow as tf\n",
        "import pandas as pd\n",
        "from sklearn.datasets import load_iris\n",
        "from sklearn.model_selection import train_test_split\n",
        "from sklearn.preprocessing import StandardScaler\n",
        "\n",
        "# Carregar o conjunto de dados Iris\n",
        "iris = load_iris()\n",
        "X = iris.data\n",
        "y = iris.target\n"
      ]
    },
    {
      "cell_type": "code",
      "source": [
        "# Dividindo o conjunto de dados em treinamento e teste\n",
        "X_train, X_test, y_train, y_test = train_test_split(X, y, test_size=0.2, random_state=42)"
      ],
      "metadata": {
        "id": "8Q5WZNNmZ5yZ"
      },
      "execution_count": 2,
      "outputs": []
    },
    {
      "cell_type": "code",
      "source": [
        "# Normalizando os dados\n",
        "scaler = StandardScaler()\n",
        "X_train = scaler.fit_transform(X_train)\n",
        "X_test = scaler.transform(X_test)"
      ],
      "metadata": {
        "id": "V4-G3hJmaO1U"
      },
      "execution_count": 3,
      "outputs": []
    },
    {
      "cell_type": "code",
      "source": [
        "# Construir o modelo\n",
        "model = tf.keras.Sequential([\n",
        "    tf.keras.layers.Dense(10, activation='relu', input_shape=(X_train.shape[1],)),\n",
        "    tf.keras.layers.Dense(10, activation='relu'),\n",
        "    tf.keras.layers.Dense(3, activation='softmax')\n",
        "])\n",
        "\n",
        "# Compilar o modelo\n",
        "model.compile(optimizer='adam', loss='sparse_categorical_crossentropy', metrics=['accuracy'])\n"
      ],
      "metadata": {
        "id": "ePGO91qIaUx-"
      },
      "execution_count": 5,
      "outputs": []
    },
    {
      "cell_type": "code",
      "source": [
        "# Treinar o modelo\n",
        "model.fit(X_train, y_train, epochs=50, batch_size=5, verbose=2)\n"
      ],
      "metadata": {
        "colab": {
          "base_uri": "https://localhost:8080/"
        },
        "id": "als0RrJEacym",
        "outputId": "3e715cf6-e854-444f-ca16-793dea0600b4"
      },
      "execution_count": 6,
      "outputs": [
        {
          "output_type": "stream",
          "name": "stdout",
          "text": [
            "Epoch 1/50\n",
            "24/24 - 2s - 84ms/step - accuracy: 0.3833 - loss: 1.0677\n",
            "Epoch 2/50\n",
            "24/24 - 0s - 8ms/step - accuracy: 0.6167 - loss: 0.9974\n",
            "Epoch 3/50\n",
            "24/24 - 0s - 6ms/step - accuracy: 0.7083 - loss: 0.9243\n",
            "Epoch 4/50\n",
            "24/24 - 0s - 5ms/step - accuracy: 0.7333 - loss: 0.8279\n",
            "Epoch 5/50\n",
            "24/24 - 0s - 6ms/step - accuracy: 0.7583 - loss: 0.7478\n",
            "Epoch 6/50\n",
            "24/24 - 0s - 8ms/step - accuracy: 0.7583 - loss: 0.6837\n",
            "Epoch 7/50\n",
            "24/24 - 0s - 8ms/step - accuracy: 0.7917 - loss: 0.6335\n",
            "Epoch 8/50\n",
            "24/24 - 0s - 2ms/step - accuracy: 0.7917 - loss: 0.5933\n",
            "Epoch 9/50\n",
            "24/24 - 0s - 2ms/step - accuracy: 0.8000 - loss: 0.5594\n",
            "Epoch 10/50\n",
            "24/24 - 0s - 2ms/step - accuracy: 0.8167 - loss: 0.5281\n",
            "Epoch 11/50\n",
            "24/24 - 0s - 2ms/step - accuracy: 0.8250 - loss: 0.4984\n",
            "Epoch 12/50\n",
            "24/24 - 0s - 2ms/step - accuracy: 0.8417 - loss: 0.4671\n",
            "Epoch 13/50\n",
            "24/24 - 0s - 3ms/step - accuracy: 0.8583 - loss: 0.4346\n",
            "Epoch 14/50\n",
            "24/24 - 0s - 3ms/step - accuracy: 0.8750 - loss: 0.4036\n",
            "Epoch 15/50\n",
            "24/24 - 0s - 2ms/step - accuracy: 0.8917 - loss: 0.3767\n",
            "Epoch 16/50\n",
            "24/24 - 0s - 2ms/step - accuracy: 0.8917 - loss: 0.3516\n",
            "Epoch 17/50\n",
            "24/24 - 0s - 2ms/step - accuracy: 0.9000 - loss: 0.3272\n",
            "Epoch 18/50\n",
            "24/24 - 0s - 3ms/step - accuracy: 0.9167 - loss: 0.3057\n",
            "Epoch 19/50\n",
            "24/24 - 0s - 6ms/step - accuracy: 0.9250 - loss: 0.2856\n",
            "Epoch 20/50\n",
            "24/24 - 0s - 2ms/step - accuracy: 0.9500 - loss: 0.2674\n",
            "Epoch 21/50\n",
            "24/24 - 0s - 2ms/step - accuracy: 0.9500 - loss: 0.2516\n",
            "Epoch 22/50\n",
            "24/24 - 0s - 2ms/step - accuracy: 0.9500 - loss: 0.2372\n",
            "Epoch 23/50\n",
            "24/24 - 0s - 2ms/step - accuracy: 0.9500 - loss: 0.2246\n",
            "Epoch 24/50\n",
            "24/24 - 0s - 3ms/step - accuracy: 0.9583 - loss: 0.2099\n",
            "Epoch 25/50\n",
            "24/24 - 0s - 5ms/step - accuracy: 0.9667 - loss: 0.1959\n",
            "Epoch 26/50\n",
            "24/24 - 0s - 2ms/step - accuracy: 0.9667 - loss: 0.1855\n",
            "Epoch 27/50\n",
            "24/24 - 0s - 3ms/step - accuracy: 0.9667 - loss: 0.1739\n",
            "Epoch 28/50\n",
            "24/24 - 0s - 5ms/step - accuracy: 0.9667 - loss: 0.1653\n",
            "Epoch 29/50\n",
            "24/24 - 0s - 2ms/step - accuracy: 0.9667 - loss: 0.1558\n",
            "Epoch 30/50\n",
            "24/24 - 0s - 2ms/step - accuracy: 0.9667 - loss: 0.1488\n",
            "Epoch 31/50\n",
            "24/24 - 0s - 2ms/step - accuracy: 0.9667 - loss: 0.1416\n",
            "Epoch 32/50\n",
            "24/24 - 0s - 6ms/step - accuracy: 0.9667 - loss: 0.1342\n",
            "Epoch 33/50\n",
            "24/24 - 0s - 2ms/step - accuracy: 0.9583 - loss: 0.1313\n",
            "Epoch 34/50\n",
            "24/24 - 0s - 2ms/step - accuracy: 0.9667 - loss: 0.1213\n",
            "Epoch 35/50\n",
            "24/24 - 0s - 3ms/step - accuracy: 0.9667 - loss: 0.1160\n",
            "Epoch 36/50\n",
            "24/24 - 0s - 2ms/step - accuracy: 0.9750 - loss: 0.1121\n",
            "Epoch 37/50\n",
            "24/24 - 0s - 2ms/step - accuracy: 0.9750 - loss: 0.1051\n",
            "Epoch 38/50\n",
            "24/24 - 0s - 2ms/step - accuracy: 0.9750 - loss: 0.1005\n",
            "Epoch 39/50\n",
            "24/24 - 0s - 2ms/step - accuracy: 0.9667 - loss: 0.0999\n",
            "Epoch 40/50\n",
            "24/24 - 0s - 2ms/step - accuracy: 0.9750 - loss: 0.0950\n",
            "Epoch 41/50\n",
            "24/24 - 0s - 3ms/step - accuracy: 0.9750 - loss: 0.0905\n",
            "Epoch 42/50\n",
            "24/24 - 0s - 5ms/step - accuracy: 0.9667 - loss: 0.0907\n",
            "Epoch 43/50\n",
            "24/24 - 0s - 2ms/step - accuracy: 0.9667 - loss: 0.0870\n",
            "Epoch 44/50\n",
            "24/24 - 0s - 3ms/step - accuracy: 0.9750 - loss: 0.0849\n",
            "Epoch 45/50\n",
            "24/24 - 0s - 5ms/step - accuracy: 0.9833 - loss: 0.0812\n",
            "Epoch 46/50\n",
            "24/24 - 0s - 5ms/step - accuracy: 0.9750 - loss: 0.0793\n",
            "Epoch 47/50\n",
            "24/24 - 0s - 3ms/step - accuracy: 0.9667 - loss: 0.0794\n",
            "Epoch 48/50\n",
            "24/24 - 0s - 6ms/step - accuracy: 0.9667 - loss: 0.0783\n",
            "Epoch 49/50\n",
            "24/24 - 0s - 5ms/step - accuracy: 0.9667 - loss: 0.0768\n",
            "Epoch 50/50\n",
            "24/24 - 0s - 4ms/step - accuracy: 0.9667 - loss: 0.0740\n"
          ]
        },
        {
          "output_type": "execute_result",
          "data": {
            "text/plain": [
              "<keras.src.callbacks.history.History at 0x787970496740>"
            ]
          },
          "metadata": {},
          "execution_count": 6
        }
      ]
    },
    {
      "cell_type": "code",
      "source": [
        "# Avaliar o modelo\n",
        "loss, accuracy = model.evaluate(X_test, y_test, verbose=2)\n",
        "print(f\"Acurácia no conjunto de teste: {accuracy:.2f}\")\n"
      ],
      "metadata": {
        "colab": {
          "base_uri": "https://localhost:8080/"
        },
        "id": "-vUE-06xaske",
        "outputId": "4a7d5fe4-3bc7-441d-dd90-becb9ee77cc4"
      },
      "execution_count": 7,
      "outputs": [
        {
          "output_type": "stream",
          "name": "stdout",
          "text": [
            "1/1 - 0s - 383ms/step - accuracy: 1.0000 - loss: 0.0360\n",
            "Acurácia no conjunto de teste: 1.00\n"
          ]
        }
      ]
    },
    {
      "cell_type": "code",
      "source": [
        "# Fazer previsões\n",
        "predictions = model.predict(X_test)\n",
        "\n",
        "# Converter as previsões para a classe com maior probabilidade\n",
        "predicted_classes = tf.argmax(predictions, axis=1).numpy()\n",
        "\n",
        "# Comparar as previsões com as classes reais\n",
        "print(\"Previsões:\", predicted_classes)\n",
        "print(\"Classes Reais:\", y_test)\n"
      ],
      "metadata": {
        "colab": {
          "base_uri": "https://localhost:8080/"
        },
        "id": "KNVjTgxrbBfF",
        "outputId": "f9f1d94d-2ece-491a-c58e-cc99644f55fd"
      },
      "execution_count": 8,
      "outputs": [
        {
          "output_type": "stream",
          "name": "stdout",
          "text": [
            "\u001b[1m1/1\u001b[0m \u001b[32m━━━━━━━━━━━━━━━━━━━━\u001b[0m\u001b[37m\u001b[0m \u001b[1m0s\u001b[0m 230ms/step\n",
            "Previsões: [1 0 2 1 1 0 1 2 1 1 2 0 0 0 0 1 2 1 1 2 0 2 0 2 2 2 2 2 0 0]\n",
            "Classes Reais: [1 0 2 1 1 0 1 2 1 1 2 0 0 0 0 1 2 1 1 2 0 2 0 2 2 2 2 2 0 0]\n"
          ]
        }
      ]
    },
    {
      "cell_type": "code",
      "source": [],
      "metadata": {
        "id": "wFW9xZ4EbGGy"
      },
      "execution_count": null,
      "outputs": []
    }
  ]
}